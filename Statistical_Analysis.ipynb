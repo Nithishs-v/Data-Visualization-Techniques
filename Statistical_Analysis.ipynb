{
  "nbformat": 4,
  "nbformat_minor": 0,
  "metadata": {
    "colab": {
      "provenance": []
    },
    "kernelspec": {
      "name": "python3",
      "display_name": "Python 3"
    },
    "language_info": {
      "name": "python"
    }
  },
  "cells": [
    {
      "cell_type": "markdown",
      "source": [
        "Pandas provides numerous methods for data analysis.\n",
        "The objective in this section is to get familiar with the data and summarize\n",
        "its main characteristics. Also, you can define your own methods for specific\n",
        "statistical analyses."
      ],
      "metadata": {
        "id": "e4qEkQYKCLo5"
      }
    },
    {
      "cell_type": "markdown",
      "source": [
        "**Statistical Analysis**\n",
        "\n",
        "• df.describe(): Summary statistics for numerical\n",
        "columns\n",
        "\n",
        "• df.mean(): Returns the mean of all columns\n",
        "\n",
        "• df.corr(): Returns the correlation between columns\n",
        "in a data frame\n",
        "\n",
        "• df.count(): Returns the number of non-null values in\n",
        "each data frame column\n",
        "\n",
        "• df.max(): Returns the highest value in each column\n",
        "\n",
        "• df.min(): Returns the lowest value in each column\n",
        "\n",
        "• df.median(): Returns the median of each column\n",
        "\n",
        "• df.std(): Returns the standard deviation of each\n",
        "column"
      ],
      "metadata": {
        "id": "o4-UhQ8NCaXO"
      }
    },
    {
      "cell_type": "code",
      "execution_count": null,
      "metadata": {
        "colab": {
          "base_uri": "https://localhost:8080/",
          "height": 394
        },
        "id": "Fs_DHYDJ3_ju",
        "outputId": "c2e50be2-0106-49c1-acba-ad7f42f8fd33"
      },
      "outputs": [
        {
          "output_type": "execute_result",
          "data": {
            "text/plain": [
              "                 Name      City  Gender  Height  Weight\n",
              "Number                                                 \n",
              "1           Ali Ahmed  Fujairah    Male     144      93\n",
              "2        Mohamed Ziad     Dubai    Male     142      80\n",
              "3         Majid Salim   Sharjah    Male     144     102\n",
              "4         Salwa Ahmed  AbuDhabi  Female     156      85\n",
              "5       Ahlam Mohamed  Fujairah  Female     167      68\n",
              "6            Omar Ali     Dubai    Male     168      56\n",
              "7       Amna Mohammed   Sharja   Female     156      97\n",
              "8        KhalidYousif  AbuDhabi    Male     157      92\n",
              "9         Safa Humaid   Sharjah  Female     157      75\n",
              "10        Amjad Tayel  Fujairah    Male     146     109"
            ],
            "text/html": [
              "\n",
              "  <div id=\"df-e6c29a60-8ff5-4dbf-8871-6f224d197f95\" class=\"colab-df-container\">\n",
              "    <div>\n",
              "<style scoped>\n",
              "    .dataframe tbody tr th:only-of-type {\n",
              "        vertical-align: middle;\n",
              "    }\n",
              "\n",
              "    .dataframe tbody tr th {\n",
              "        vertical-align: top;\n",
              "    }\n",
              "\n",
              "    .dataframe thead th {\n",
              "        text-align: right;\n",
              "    }\n",
              "</style>\n",
              "<table border=\"1\" class=\"dataframe\">\n",
              "  <thead>\n",
              "    <tr style=\"text-align: right;\">\n",
              "      <th></th>\n",
              "      <th>Name</th>\n",
              "      <th>City</th>\n",
              "      <th>Gender</th>\n",
              "      <th>Height</th>\n",
              "      <th>Weight</th>\n",
              "    </tr>\n",
              "    <tr>\n",
              "      <th>Number</th>\n",
              "      <th></th>\n",
              "      <th></th>\n",
              "      <th></th>\n",
              "      <th></th>\n",
              "      <th></th>\n",
              "    </tr>\n",
              "  </thead>\n",
              "  <tbody>\n",
              "    <tr>\n",
              "      <th>1</th>\n",
              "      <td>Ali Ahmed</td>\n",
              "      <td>Fujairah</td>\n",
              "      <td>Male</td>\n",
              "      <td>144</td>\n",
              "      <td>93</td>\n",
              "    </tr>\n",
              "    <tr>\n",
              "      <th>2</th>\n",
              "      <td>Mohamed Ziad</td>\n",
              "      <td>Dubai</td>\n",
              "      <td>Male</td>\n",
              "      <td>142</td>\n",
              "      <td>80</td>\n",
              "    </tr>\n",
              "    <tr>\n",
              "      <th>3</th>\n",
              "      <td>Majid Salim</td>\n",
              "      <td>Sharjah</td>\n",
              "      <td>Male</td>\n",
              "      <td>144</td>\n",
              "      <td>102</td>\n",
              "    </tr>\n",
              "    <tr>\n",
              "      <th>4</th>\n",
              "      <td>Salwa Ahmed</td>\n",
              "      <td>AbuDhabi</td>\n",
              "      <td>Female</td>\n",
              "      <td>156</td>\n",
              "      <td>85</td>\n",
              "    </tr>\n",
              "    <tr>\n",
              "      <th>5</th>\n",
              "      <td>Ahlam Mohamed</td>\n",
              "      <td>Fujairah</td>\n",
              "      <td>Female</td>\n",
              "      <td>167</td>\n",
              "      <td>68</td>\n",
              "    </tr>\n",
              "    <tr>\n",
              "      <th>6</th>\n",
              "      <td>Omar Ali</td>\n",
              "      <td>Dubai</td>\n",
              "      <td>Male</td>\n",
              "      <td>168</td>\n",
              "      <td>56</td>\n",
              "    </tr>\n",
              "    <tr>\n",
              "      <th>7</th>\n",
              "      <td>Amna Mohammed</td>\n",
              "      <td>Sharja</td>\n",
              "      <td>Female</td>\n",
              "      <td>156</td>\n",
              "      <td>97</td>\n",
              "    </tr>\n",
              "    <tr>\n",
              "      <th>8</th>\n",
              "      <td>KhalidYousif</td>\n",
              "      <td>AbuDhabi</td>\n",
              "      <td>Male</td>\n",
              "      <td>157</td>\n",
              "      <td>92</td>\n",
              "    </tr>\n",
              "    <tr>\n",
              "      <th>9</th>\n",
              "      <td>Safa Humaid</td>\n",
              "      <td>Sharjah</td>\n",
              "      <td>Female</td>\n",
              "      <td>157</td>\n",
              "      <td>75</td>\n",
              "    </tr>\n",
              "    <tr>\n",
              "      <th>10</th>\n",
              "      <td>Amjad Tayel</td>\n",
              "      <td>Fujairah</td>\n",
              "      <td>Male</td>\n",
              "      <td>146</td>\n",
              "      <td>109</td>\n",
              "    </tr>\n",
              "  </tbody>\n",
              "</table>\n",
              "</div>\n",
              "    <div class=\"colab-df-buttons\">\n",
              "\n",
              "  <div class=\"colab-df-container\">\n",
              "    <button class=\"colab-df-convert\" onclick=\"convertToInteractive('df-e6c29a60-8ff5-4dbf-8871-6f224d197f95')\"\n",
              "            title=\"Convert this dataframe to an interactive table.\"\n",
              "            style=\"display:none;\">\n",
              "\n",
              "  <svg xmlns=\"http://www.w3.org/2000/svg\" height=\"24px\" viewBox=\"0 -960 960 960\">\n",
              "    <path d=\"M120-120v-720h720v720H120Zm60-500h600v-160H180v160Zm220 220h160v-160H400v160Zm0 220h160v-160H400v160ZM180-400h160v-160H180v160Zm440 0h160v-160H620v160ZM180-180h160v-160H180v160Zm440 0h160v-160H620v160Z\"/>\n",
              "  </svg>\n",
              "    </button>\n",
              "\n",
              "  <style>\n",
              "    .colab-df-container {\n",
              "      display:flex;\n",
              "      gap: 12px;\n",
              "    }\n",
              "\n",
              "    .colab-df-convert {\n",
              "      background-color: #E8F0FE;\n",
              "      border: none;\n",
              "      border-radius: 50%;\n",
              "      cursor: pointer;\n",
              "      display: none;\n",
              "      fill: #1967D2;\n",
              "      height: 32px;\n",
              "      padding: 0 0 0 0;\n",
              "      width: 32px;\n",
              "    }\n",
              "\n",
              "    .colab-df-convert:hover {\n",
              "      background-color: #E2EBFA;\n",
              "      box-shadow: 0px 1px 2px rgba(60, 64, 67, 0.3), 0px 1px 3px 1px rgba(60, 64, 67, 0.15);\n",
              "      fill: #174EA6;\n",
              "    }\n",
              "\n",
              "    .colab-df-buttons div {\n",
              "      margin-bottom: 4px;\n",
              "    }\n",
              "\n",
              "    [theme=dark] .colab-df-convert {\n",
              "      background-color: #3B4455;\n",
              "      fill: #D2E3FC;\n",
              "    }\n",
              "\n",
              "    [theme=dark] .colab-df-convert:hover {\n",
              "      background-color: #434B5C;\n",
              "      box-shadow: 0px 1px 3px 1px rgba(0, 0, 0, 0.15);\n",
              "      filter: drop-shadow(0px 1px 2px rgba(0, 0, 0, 0.3));\n",
              "      fill: #FFFFFF;\n",
              "    }\n",
              "  </style>\n",
              "\n",
              "    <script>\n",
              "      const buttonEl =\n",
              "        document.querySelector('#df-e6c29a60-8ff5-4dbf-8871-6f224d197f95 button.colab-df-convert');\n",
              "      buttonEl.style.display =\n",
              "        google.colab.kernel.accessAllowed ? 'block' : 'none';\n",
              "\n",
              "      async function convertToInteractive(key) {\n",
              "        const element = document.querySelector('#df-e6c29a60-8ff5-4dbf-8871-6f224d197f95');\n",
              "        const dataTable =\n",
              "          await google.colab.kernel.invokeFunction('convertToInteractive',\n",
              "                                                    [key], {});\n",
              "        if (!dataTable) return;\n",
              "\n",
              "        const docLinkHtml = 'Like what you see? Visit the ' +\n",
              "          '<a target=\"_blank\" href=https://colab.research.google.com/notebooks/data_table.ipynb>data table notebook</a>'\n",
              "          + ' to learn more about interactive tables.';\n",
              "        element.innerHTML = '';\n",
              "        dataTable['output_type'] = 'display_data';\n",
              "        await google.colab.output.renderOutput(dataTable, element);\n",
              "        const docLink = document.createElement('div');\n",
              "        docLink.innerHTML = docLinkHtml;\n",
              "        element.appendChild(docLink);\n",
              "      }\n",
              "    </script>\n",
              "  </div>\n",
              "\n",
              "\n",
              "<div id=\"df-39bfdc8e-ae84-4d8c-927b-e2c8a5ec2dfb\">\n",
              "  <button class=\"colab-df-quickchart\" onclick=\"quickchart('df-39bfdc8e-ae84-4d8c-927b-e2c8a5ec2dfb')\"\n",
              "            title=\"Suggest charts.\"\n",
              "            style=\"display:none;\">\n",
              "\n",
              "<svg xmlns=\"http://www.w3.org/2000/svg\" height=\"24px\"viewBox=\"0 0 24 24\"\n",
              "     width=\"24px\">\n",
              "    <g>\n",
              "        <path d=\"M19 3H5c-1.1 0-2 .9-2 2v14c0 1.1.9 2 2 2h14c1.1 0 2-.9 2-2V5c0-1.1-.9-2-2-2zM9 17H7v-7h2v7zm4 0h-2V7h2v10zm4 0h-2v-4h2v4z\"/>\n",
              "    </g>\n",
              "</svg>\n",
              "  </button>\n",
              "\n",
              "<style>\n",
              "  .colab-df-quickchart {\n",
              "      --bg-color: #E8F0FE;\n",
              "      --fill-color: #1967D2;\n",
              "      --hover-bg-color: #E2EBFA;\n",
              "      --hover-fill-color: #174EA6;\n",
              "      --disabled-fill-color: #AAA;\n",
              "      --disabled-bg-color: #DDD;\n",
              "  }\n",
              "\n",
              "  [theme=dark] .colab-df-quickchart {\n",
              "      --bg-color: #3B4455;\n",
              "      --fill-color: #D2E3FC;\n",
              "      --hover-bg-color: #434B5C;\n",
              "      --hover-fill-color: #FFFFFF;\n",
              "      --disabled-bg-color: #3B4455;\n",
              "      --disabled-fill-color: #666;\n",
              "  }\n",
              "\n",
              "  .colab-df-quickchart {\n",
              "    background-color: var(--bg-color);\n",
              "    border: none;\n",
              "    border-radius: 50%;\n",
              "    cursor: pointer;\n",
              "    display: none;\n",
              "    fill: var(--fill-color);\n",
              "    height: 32px;\n",
              "    padding: 0;\n",
              "    width: 32px;\n",
              "  }\n",
              "\n",
              "  .colab-df-quickchart:hover {\n",
              "    background-color: var(--hover-bg-color);\n",
              "    box-shadow: 0 1px 2px rgba(60, 64, 67, 0.3), 0 1px 3px 1px rgba(60, 64, 67, 0.15);\n",
              "    fill: var(--button-hover-fill-color);\n",
              "  }\n",
              "\n",
              "  .colab-df-quickchart-complete:disabled,\n",
              "  .colab-df-quickchart-complete:disabled:hover {\n",
              "    background-color: var(--disabled-bg-color);\n",
              "    fill: var(--disabled-fill-color);\n",
              "    box-shadow: none;\n",
              "  }\n",
              "\n",
              "  .colab-df-spinner {\n",
              "    border: 2px solid var(--fill-color);\n",
              "    border-color: transparent;\n",
              "    border-bottom-color: var(--fill-color);\n",
              "    animation:\n",
              "      spin 1s steps(1) infinite;\n",
              "  }\n",
              "\n",
              "  @keyframes spin {\n",
              "    0% {\n",
              "      border-color: transparent;\n",
              "      border-bottom-color: var(--fill-color);\n",
              "      border-left-color: var(--fill-color);\n",
              "    }\n",
              "    20% {\n",
              "      border-color: transparent;\n",
              "      border-left-color: var(--fill-color);\n",
              "      border-top-color: var(--fill-color);\n",
              "    }\n",
              "    30% {\n",
              "      border-color: transparent;\n",
              "      border-left-color: var(--fill-color);\n",
              "      border-top-color: var(--fill-color);\n",
              "      border-right-color: var(--fill-color);\n",
              "    }\n",
              "    40% {\n",
              "      border-color: transparent;\n",
              "      border-right-color: var(--fill-color);\n",
              "      border-top-color: var(--fill-color);\n",
              "    }\n",
              "    60% {\n",
              "      border-color: transparent;\n",
              "      border-right-color: var(--fill-color);\n",
              "    }\n",
              "    80% {\n",
              "      border-color: transparent;\n",
              "      border-right-color: var(--fill-color);\n",
              "      border-bottom-color: var(--fill-color);\n",
              "    }\n",
              "    90% {\n",
              "      border-color: transparent;\n",
              "      border-bottom-color: var(--fill-color);\n",
              "    }\n",
              "  }\n",
              "</style>\n",
              "\n",
              "  <script>\n",
              "    async function quickchart(key) {\n",
              "      const quickchartButtonEl =\n",
              "        document.querySelector('#' + key + ' button');\n",
              "      quickchartButtonEl.disabled = true;  // To prevent multiple clicks.\n",
              "      quickchartButtonEl.classList.add('colab-df-spinner');\n",
              "      try {\n",
              "        const charts = await google.colab.kernel.invokeFunction(\n",
              "            'suggestCharts', [key], {});\n",
              "      } catch (error) {\n",
              "        console.error('Error during call to suggestCharts:', error);\n",
              "      }\n",
              "      quickchartButtonEl.classList.remove('colab-df-spinner');\n",
              "      quickchartButtonEl.classList.add('colab-df-quickchart-complete');\n",
              "    }\n",
              "    (() => {\n",
              "      let quickchartButtonEl =\n",
              "        document.querySelector('#df-39bfdc8e-ae84-4d8c-927b-e2c8a5ec2dfb button');\n",
              "      quickchartButtonEl.style.display =\n",
              "        google.colab.kernel.accessAllowed ? 'block' : 'none';\n",
              "    })();\n",
              "  </script>\n",
              "</div>\n",
              "    </div>\n",
              "  </div>\n"
            ]
          },
          "metadata": {},
          "execution_count": 5
        }
      ],
      "source": [
        "import pandas as pd\n",
        "import numpy as np\n",
        "Number = [1,2,3,4,5,6,7,8,9,10]\n",
        "Names = ['Ali Ahmed','Mohamed Ziad','Majid Salim','Salwa Ahmed', 'Ahlam Mohamed', 'Omar Ali', 'Amna Mohammed','KhalidYousif', 'Safa Humaid', 'Amjad Tayel']\n",
        "City = ['Fujairah','Dubai','Sharjah','AbuDhabi','Fujairah','Dubai', 'Sharja ', 'AbuDhabi','Sharjah','Fujairah']\n",
        "columns = ['Number', 'Name', 'City' ]\n",
        "dataset= pd.DataFrame({'Number': Number , 'Name': Names,\n",
        "'City': City}, columns = columns )\n",
        "Gender= pd.DataFrame({'Gender':['Male','Male','Male','Female',\n",
        "'Female', 'Male', 'Female', 'Male','Female', 'Male']})\n",
        "Height = pd.DataFrame(np.random.randint(120,175, size=(12, 1)))\n",
        "Weight = pd.DataFrame(np.random.randint(50,110, size=(12, 1)))\n",
        "dataset['Gender']= Gender\n",
        "dataset['Height']= Height\n",
        "dataset['Weight']= Weight\n",
        "dataset.set_index('Number')"
      ]
    },
    {
      "cell_type": "markdown",
      "source": [
        " df.describe(): Summary statistics for numerical\n",
        "columns"
      ],
      "metadata": {
        "id": "ow1xhgU9DCYq"
      }
    },
    {
      "cell_type": "code",
      "source": [
        "print ( dataset.describe())"
      ],
      "metadata": {
        "id": "jlXHpU1o5Cz7",
        "outputId": "b889090e-8ece-4557-dd39-99341971b93a",
        "colab": {
          "base_uri": "https://localhost:8080/"
        }
      },
      "execution_count": null,
      "outputs": [
        {
          "output_type": "stream",
          "name": "stdout",
          "text": [
            "         Number      Height      Weight\n",
            "count  10.00000   10.000000   10.000000\n",
            "mean    5.50000  153.700000   85.700000\n",
            "std     3.02765    9.416888   16.234736\n",
            "min     1.00000  142.000000   56.000000\n",
            "25%     3.25000  144.500000   76.250000\n",
            "50%     5.50000  156.000000   88.500000\n",
            "75%     7.75000  157.000000   96.000000\n",
            "max    10.00000  168.000000  109.000000\n"
          ]
        }
      ]
    },
    {
      "cell_type": "markdown",
      "source": [
        "df.mean(): Returns the mean of all columns"
      ],
      "metadata": {
        "id": "0_QWnrq_DLig"
      }
    },
    {
      "cell_type": "code",
      "source": [
        "import pandas as pd\n",
        "import numpy as np\n",
        "Number = [1,2,3,4,5,6,7,8,9,10]\n",
        "Names = ['Ali Ahmed','Mohamed Ziad','Majid Salim','Salwa Ahmed', 'Ahlam Mohamed', 'Omar Ali', 'Amna Mohammed','KhalidYousif', 'Safa Humaid', 'Amjad Tayel']\n",
        "City = ['Fujairah','Dubai','Sharjah','AbuDhabi','Fujairah','Dubai', 'Sharja ', 'AbuDhabi','Sharjah','Fujairah']\n",
        "columns = ['Number', 'Name', 'City' ]\n",
        "dataset= pd.DataFrame({'Number': Number , 'Name': Names,\n",
        "'City': City}, columns = columns )\n",
        "Gender= pd.DataFrame({'Gender':['Male','Male','Male','Female',\n",
        "'Female', 'Male', 'Female', 'Male','Female', 'Male']})\n",
        "Height = pd.DataFrame(np.random.randint(120,175, size=(12, 1)))\n",
        "Weight = pd.DataFrame(np.random.randint(50,110, size=(12, 1)))\n",
        "dataset['Gender']= Gender\n",
        "dataset['Height']= Height\n",
        "dataset['Weight']= Weight\n",
        "dataset.set_index('Number')\n",
        "print (dataset.mean())"
      ],
      "metadata": {
        "colab": {
          "base_uri": "https://localhost:8080/"
        },
        "id": "P9GDvk8zDNLc",
        "outputId": "171450c8-d5db-4447-d623-26fdf213a892"
      },
      "execution_count": null,
      "outputs": [
        {
          "output_type": "stream",
          "name": "stdout",
          "text": [
            "Number      5.5\n",
            "Height    141.1\n",
            "Weight     73.3\n",
            "dtype: float64\n"
          ]
        },
        {
          "output_type": "stream",
          "name": "stderr",
          "text": [
            "<ipython-input-3-1ad7d1847a45>:17: FutureWarning: The default value of numeric_only in DataFrame.mean is deprecated. In a future version, it will default to False. In addition, specifying 'numeric_only=None' is deprecated. Select only valid columns or specify the value of numeric_only to silence this warning.\n",
            "  print (dataset.mean())\n"
          ]
        }
      ]
    },
    {
      "cell_type": "markdown",
      "source": [
        "df.corr(): Returns the correlation between columns in a data frame\n",
        "\n"
      ],
      "metadata": {
        "id": "p15lfuD9ERyW"
      }
    },
    {
      "cell_type": "code",
      "source": [
        "print (dataset.corr())"
      ],
      "metadata": {
        "colab": {
          "base_uri": "https://localhost:8080/"
        },
        "id": "z57ps4soEri4",
        "outputId": "ff72da59-1ca8-4ac1-b5f2-34b9ff9dc986"
      },
      "execution_count": null,
      "outputs": [
        {
          "output_type": "stream",
          "name": "stdout",
          "text": [
            "          Number    Height    Weight\n",
            "Number  1.000000  0.017987  0.106749\n",
            "Height  0.017987  1.000000  0.024861\n",
            "Weight  0.106749  0.024861  1.000000\n"
          ]
        },
        {
          "output_type": "stream",
          "name": "stderr",
          "text": [
            "<ipython-input-4-a817316b999d>:1: FutureWarning: The default value of numeric_only in DataFrame.corr is deprecated. In a future version, it will default to False. Select only valid columns or specify the value of numeric_only to silence this warning.\n",
            "  print (dataset.corr())\n"
          ]
        }
      ]
    },
    {
      "cell_type": "markdown",
      "source": [
        " df.count(): Returns the number of non-null values in each data frame column"
      ],
      "metadata": {
        "id": "jbO1pmrhE3Vx"
      }
    },
    {
      "cell_type": "code",
      "source": [
        "print(dataset.count())"
      ],
      "metadata": {
        "colab": {
          "base_uri": "https://localhost:8080/"
        },
        "id": "BmtuXECXE5SP",
        "outputId": "28126903-3eee-43ba-fa90-e0b1535d0208"
      },
      "execution_count": null,
      "outputs": [
        {
          "output_type": "stream",
          "name": "stdout",
          "text": [
            "Number    10\n",
            "Name      10\n",
            "City      10\n",
            "Gender    10\n",
            "Height    10\n",
            "Weight    10\n",
            "dtype: int64\n"
          ]
        }
      ]
    },
    {
      "cell_type": "markdown",
      "source": [
        "**MIN AND MAX**\n",
        "\n",
        "• df.max(): Returns the highest value in each column\n",
        "\n",
        "• df.min(): Returns the lowest value in each column"
      ],
      "metadata": {
        "id": "MZJvOZ32E94Z"
      }
    },
    {
      "cell_type": "code",
      "source": [
        "print(dataset.max())\n",
        "print(dataset.min())"
      ],
      "metadata": {
        "colab": {
          "base_uri": "https://localhost:8080/"
        },
        "id": "LDnqIgyuFPTh",
        "outputId": "15c35605-2655-48d8-b309-6daa10ee7ee2"
      },
      "execution_count": null,
      "outputs": [
        {
          "output_type": "stream",
          "name": "stdout",
          "text": [
            "Number             10\n",
            "Name      Salwa Ahmed\n",
            "City          Sharjah\n",
            "Gender           Male\n",
            "Height            166\n",
            "Weight             95\n",
            "dtype: object\n",
            "Number                1\n",
            "Name      Ahlam Mohamed\n",
            "City           AbuDhabi\n",
            "Gender           Female\n",
            "Height              122\n",
            "Weight               50\n",
            "dtype: object\n"
          ]
        }
      ]
    },
    {
      "cell_type": "markdown",
      "source": [
        " df.median(): Returns the median of each column"
      ],
      "metadata": {
        "id": "jCIebhVWIbiD"
      }
    },
    {
      "cell_type": "code",
      "source": [
        "print (dataset.median())"
      ],
      "metadata": {
        "colab": {
          "base_uri": "https://localhost:8080/"
        },
        "id": "Dq0IhGwbI7h7",
        "outputId": "a4525ae7-0402-423e-fa6b-c28df61b5c97"
      },
      "execution_count": null,
      "outputs": [
        {
          "output_type": "stream",
          "name": "stdout",
          "text": [
            "Number      5.5\n",
            "Height    149.5\n",
            "Weight     74.0\n",
            "dtype: float64\n"
          ]
        },
        {
          "output_type": "stream",
          "name": "stderr",
          "text": [
            "<ipython-input-3-cce7d819d3d7>:1: FutureWarning: The default value of numeric_only in DataFrame.median is deprecated. In a future version, it will default to False. In addition, specifying 'numeric_only=None' is deprecated. Select only valid columns or specify the value of numeric_only to silence this warning.\n",
            "  print (dataset.median())\n"
          ]
        }
      ]
    },
    {
      "cell_type": "markdown",
      "source": [
        "df.std(): Returns the standard deviation of each column"
      ],
      "metadata": {
        "id": "TFjGCFG3JIgc"
      }
    },
    {
      "cell_type": "code",
      "source": [
        "print(dataset.std())"
      ],
      "metadata": {
        "colab": {
          "base_uri": "https://localhost:8080/"
        },
        "id": "-WO8UJKYJMgx",
        "outputId": "11d8e43b-5a1e-47d7-faba-e387bef43198"
      },
      "execution_count": null,
      "outputs": [
        {
          "output_type": "stream",
          "name": "stdout",
          "text": [
            "Number     3.027650\n",
            "Height    15.693240\n",
            "Weight    16.487032\n",
            "dtype: float64\n"
          ]
        },
        {
          "output_type": "stream",
          "name": "stderr",
          "text": [
            "<ipython-input-4-eebaf71b4358>:1: FutureWarning: The default value of numeric_only in DataFrame.std is deprecated. In a future version, it will default to False. In addition, specifying 'numeric_only=None' is deprecated. Select only valid columns or specify the value of numeric_only to silence this warning.\n",
            "  print(dataset.std())\n"
          ]
        }
      ]
    }
  ]
}